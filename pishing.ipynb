{
 "cells": [
  {
   "cell_type": "raw",
   "id": "2a67c6e9-36d0-44e2-99a3-5b3cbea0a34c",
   "metadata": {},
   "source": [
    "Exploración de datos"
   ]
  },
  {
   "cell_type": "code",
   "execution_count": 1,
   "id": "053caacb-4d2b-4b90-8876-ba9e7dca4470",
   "metadata": {},
   "outputs": [
    {
     "name": "stdout",
     "output_type": "stream",
     "text": [
      "Requirement already satisfied: ydata-profiling in /Library/Frameworks/Python.framework/Versions/3.11/lib/python3.11/site-packages (4.6.4)\n",
      "Requirement already satisfied: scipy<1.12,>=1.4.1 in /Library/Frameworks/Python.framework/Versions/3.11/lib/python3.11/site-packages (from ydata-profiling) (1.11.4)\n",
      "Requirement already satisfied: pandas!=1.4.0,<3,>1.1 in /Library/Frameworks/Python.framework/Versions/3.11/lib/python3.11/site-packages (from ydata-profiling) (2.1.4)\n",
      "Requirement already satisfied: matplotlib<3.9,>=3.2 in /Library/Frameworks/Python.framework/Versions/3.11/lib/python3.11/site-packages (from ydata-profiling) (3.8.2)\n",
      "Requirement already satisfied: pydantic>=2 in /Library/Frameworks/Python.framework/Versions/3.11/lib/python3.11/site-packages (from ydata-profiling) (2.6.1)\n",
      "Requirement already satisfied: PyYAML<6.1,>=5.0.0 in /Library/Frameworks/Python.framework/Versions/3.11/lib/python3.11/site-packages (from ydata-profiling) (6.0.1)\n",
      "Requirement already satisfied: jinja2<3.2,>=2.11.1 in /Library/Frameworks/Python.framework/Versions/3.11/lib/python3.11/site-packages (from ydata-profiling) (3.1.3)\n",
      "Requirement already satisfied: visions==0.7.5 in /Library/Frameworks/Python.framework/Versions/3.11/lib/python3.11/site-packages (from visions[type_image_path]==0.7.5->ydata-profiling) (0.7.5)\n",
      "Requirement already satisfied: numpy<1.26,>=1.16.0 in /Library/Frameworks/Python.framework/Versions/3.11/lib/python3.11/site-packages (from ydata-profiling) (1.25.2)\n",
      "Requirement already satisfied: htmlmin==0.1.12 in /Library/Frameworks/Python.framework/Versions/3.11/lib/python3.11/site-packages (from ydata-profiling) (0.1.12)\n",
      "Requirement already satisfied: phik<0.13,>=0.11.1 in /Library/Frameworks/Python.framework/Versions/3.11/lib/python3.11/site-packages (from ydata-profiling) (0.12.4)\n",
      "Requirement already satisfied: requests<3,>=2.24.0 in /Library/Frameworks/Python.framework/Versions/3.11/lib/python3.11/site-packages (from ydata-profiling) (2.31.0)\n",
      "Requirement already satisfied: tqdm<5,>=4.48.2 in /Library/Frameworks/Python.framework/Versions/3.11/lib/python3.11/site-packages (from ydata-profiling) (4.66.1)\n",
      "Requirement already satisfied: seaborn<0.13,>=0.10.1 in /Library/Frameworks/Python.framework/Versions/3.11/lib/python3.11/site-packages (from ydata-profiling) (0.12.2)\n",
      "Requirement already satisfied: multimethod<2,>=1.4 in /Library/Frameworks/Python.framework/Versions/3.11/lib/python3.11/site-packages (from ydata-profiling) (1.11)\n",
      "Requirement already satisfied: statsmodels<1,>=0.13.2 in /Library/Frameworks/Python.framework/Versions/3.11/lib/python3.11/site-packages (from ydata-profiling) (0.14.1)\n",
      "Requirement already satisfied: typeguard<5,>=4.1.2 in /Library/Frameworks/Python.framework/Versions/3.11/lib/python3.11/site-packages (from ydata-profiling) (4.1.5)\n",
      "Requirement already satisfied: imagehash==4.3.1 in /Library/Frameworks/Python.framework/Versions/3.11/lib/python3.11/site-packages (from ydata-profiling) (4.3.1)\n",
      "Requirement already satisfied: wordcloud>=1.9.1 in /Library/Frameworks/Python.framework/Versions/3.11/lib/python3.11/site-packages (from ydata-profiling) (1.9.3)\n",
      "Requirement already satisfied: dacite>=1.8 in /Library/Frameworks/Python.framework/Versions/3.11/lib/python3.11/site-packages (from ydata-profiling) (1.8.1)\n",
      "Requirement already satisfied: numba<0.59.0,>=0.56.0 in /Library/Frameworks/Python.framework/Versions/3.11/lib/python3.11/site-packages (from ydata-profiling) (0.58.1)\n",
      "Requirement already satisfied: PyWavelets in /Library/Frameworks/Python.framework/Versions/3.11/lib/python3.11/site-packages (from imagehash==4.3.1->ydata-profiling) (1.5.0)\n",
      "Requirement already satisfied: pillow in /Library/Frameworks/Python.framework/Versions/3.11/lib/python3.11/site-packages (from imagehash==4.3.1->ydata-profiling) (10.2.0)\n",
      "Requirement already satisfied: attrs>=19.3.0 in /Library/Frameworks/Python.framework/Versions/3.11/lib/python3.11/site-packages (from visions==0.7.5->visions[type_image_path]==0.7.5->ydata-profiling) (23.2.0)\n",
      "Requirement already satisfied: networkx>=2.4 in /Library/Frameworks/Python.framework/Versions/3.11/lib/python3.11/site-packages (from visions==0.7.5->visions[type_image_path]==0.7.5->ydata-profiling) (3.2.1)\n",
      "Requirement already satisfied: tangled-up-in-unicode>=0.0.4 in /Library/Frameworks/Python.framework/Versions/3.11/lib/python3.11/site-packages (from visions==0.7.5->visions[type_image_path]==0.7.5->ydata-profiling) (0.2.0)\n",
      "Requirement already satisfied: MarkupSafe>=2.0 in /Library/Frameworks/Python.framework/Versions/3.11/lib/python3.11/site-packages (from jinja2<3.2,>=2.11.1->ydata-profiling) (2.1.3)\n",
      "Requirement already satisfied: contourpy>=1.0.1 in /Library/Frameworks/Python.framework/Versions/3.11/lib/python3.11/site-packages (from matplotlib<3.9,>=3.2->ydata-profiling) (1.2.0)\n",
      "Requirement already satisfied: cycler>=0.10 in /Library/Frameworks/Python.framework/Versions/3.11/lib/python3.11/site-packages (from matplotlib<3.9,>=3.2->ydata-profiling) (0.12.1)\n",
      "Requirement already satisfied: fonttools>=4.22.0 in /Library/Frameworks/Python.framework/Versions/3.11/lib/python3.11/site-packages (from matplotlib<3.9,>=3.2->ydata-profiling) (4.47.2)\n",
      "Requirement already satisfied: kiwisolver>=1.3.1 in /Library/Frameworks/Python.framework/Versions/3.11/lib/python3.11/site-packages (from matplotlib<3.9,>=3.2->ydata-profiling) (1.4.5)\n",
      "Requirement already satisfied: packaging>=20.0 in /Library/Frameworks/Python.framework/Versions/3.11/lib/python3.11/site-packages (from matplotlib<3.9,>=3.2->ydata-profiling) (23.2)\n",
      "Requirement already satisfied: pyparsing>=2.3.1 in /Library/Frameworks/Python.framework/Versions/3.11/lib/python3.11/site-packages (from matplotlib<3.9,>=3.2->ydata-profiling) (3.1.1)\n",
      "Requirement already satisfied: python-dateutil>=2.7 in /Library/Frameworks/Python.framework/Versions/3.11/lib/python3.11/site-packages (from matplotlib<3.9,>=3.2->ydata-profiling) (2.8.2)\n",
      "Requirement already satisfied: llvmlite<0.42,>=0.41.0dev0 in /Library/Frameworks/Python.framework/Versions/3.11/lib/python3.11/site-packages (from numba<0.59.0,>=0.56.0->ydata-profiling) (0.41.1)\n",
      "Requirement already satisfied: pytz>=2020.1 in /Library/Frameworks/Python.framework/Versions/3.11/lib/python3.11/site-packages (from pandas!=1.4.0,<3,>1.1->ydata-profiling) (2023.3.post1)\n",
      "Requirement already satisfied: tzdata>=2022.1 in /Library/Frameworks/Python.framework/Versions/3.11/lib/python3.11/site-packages (from pandas!=1.4.0,<3,>1.1->ydata-profiling) (2023.4)\n",
      "Requirement already satisfied: joblib>=0.14.1 in /Library/Frameworks/Python.framework/Versions/3.11/lib/python3.11/site-packages (from phik<0.13,>=0.11.1->ydata-profiling) (1.3.2)\n",
      "Requirement already satisfied: annotated-types>=0.4.0 in /Library/Frameworks/Python.framework/Versions/3.11/lib/python3.11/site-packages (from pydantic>=2->ydata-profiling) (0.6.0)\n",
      "Requirement already satisfied: pydantic-core==2.16.2 in /Library/Frameworks/Python.framework/Versions/3.11/lib/python3.11/site-packages (from pydantic>=2->ydata-profiling) (2.16.2)\n",
      "Requirement already satisfied: typing-extensions>=4.6.1 in /Library/Frameworks/Python.framework/Versions/3.11/lib/python3.11/site-packages (from pydantic>=2->ydata-profiling) (4.9.0)\n",
      "Requirement already satisfied: charset-normalizer<4,>=2 in /Library/Frameworks/Python.framework/Versions/3.11/lib/python3.11/site-packages (from requests<3,>=2.24.0->ydata-profiling) (3.3.2)\n",
      "Requirement already satisfied: idna<4,>=2.5 in /Library/Frameworks/Python.framework/Versions/3.11/lib/python3.11/site-packages (from requests<3,>=2.24.0->ydata-profiling) (3.6)\n",
      "Requirement already satisfied: urllib3<3,>=1.21.1 in /Library/Frameworks/Python.framework/Versions/3.11/lib/python3.11/site-packages (from requests<3,>=2.24.0->ydata-profiling) (2.1.0)\n",
      "Requirement already satisfied: certifi>=2017.4.17 in /Library/Frameworks/Python.framework/Versions/3.11/lib/python3.11/site-packages (from requests<3,>=2.24.0->ydata-profiling) (2023.5.7)\n",
      "Requirement already satisfied: patsy>=0.5.4 in /Library/Frameworks/Python.framework/Versions/3.11/lib/python3.11/site-packages (from statsmodels<1,>=0.13.2->ydata-profiling) (0.5.6)\n",
      "Requirement already satisfied: six in /Library/Frameworks/Python.framework/Versions/3.11/lib/python3.11/site-packages (from patsy>=0.5.4->statsmodels<1,>=0.13.2->ydata-profiling) (1.16.0)\n",
      "Note: you may need to restart the kernel to use updated packages.\n"
     ]
    }
   ],
   "source": [
    "pip install ydata-profiling"
   ]
  },
  {
   "cell_type": "code",
   "execution_count": 2,
   "id": "5bbe4b99-490c-469e-bbeb-fb9eaa4740f4",
   "metadata": {},
   "outputs": [
    {
     "name": "stderr",
     "output_type": "stream",
     "text": [
      "/Library/Frameworks/Python.framework/Versions/3.11/lib/python3.11/site-packages/tqdm/auto.py:21: TqdmWarning: IProgress not found. Please update jupyter and ipywidgets. See https://ipywidgets.readthedocs.io/en/stable/user_install.html\n",
      "  from .autonotebook import tqdm as notebook_tqdm\n"
     ]
    }
   ],
   "source": [
    "import numpy as np\n",
    "import pandas as pd\n",
    "from ydata_profiling import ProfileReport\n",
    "from urllib.parse import urlparse\n",
    "from functions_url import *"
   ]
  },
  {
   "cell_type": "code",
   "execution_count": 3,
   "id": "b27758ff-461b-45c9-898d-601c850abffa",
   "metadata": {},
   "outputs": [],
   "source": [
    "import matplotlib.pyplot as plt\n",
    "import seaborn as sns"
   ]
  },
  {
   "cell_type": "code",
   "execution_count": 4,
   "id": "16b039a2-1ad9-40e1-88fd-f5c2a4afe2b5",
   "metadata": {},
   "outputs": [],
   "source": [
    "df = pd.read_csv(\"dataset_pishing.csv\", sep = \",\")"
   ]
  },
  {
   "cell_type": "code",
   "execution_count": 5,
   "id": "24f47532-612f-42f0-870f-bfacced1f772",
   "metadata": {},
   "outputs": [
    {
     "data": {
      "text/html": [
       "<div>\n",
       "<style scoped>\n",
       "    .dataframe tbody tr th:only-of-type {\n",
       "        vertical-align: middle;\n",
       "    }\n",
       "\n",
       "    .dataframe tbody tr th {\n",
       "        vertical-align: top;\n",
       "    }\n",
       "\n",
       "    .dataframe thead th {\n",
       "        text-align: right;\n",
       "    }\n",
       "</style>\n",
       "<table border=\"1\" class=\"dataframe\">\n",
       "  <thead>\n",
       "    <tr style=\"text-align: right;\">\n",
       "      <th></th>\n",
       "      <th>url</th>\n",
       "      <th>status</th>\n",
       "    </tr>\n",
       "  </thead>\n",
       "  <tbody>\n",
       "    <tr>\n",
       "      <th>0</th>\n",
       "      <td>http://www.crestonwood.com/router.php</td>\n",
       "      <td>legitimate</td>\n",
       "    </tr>\n",
       "    <tr>\n",
       "      <th>1</th>\n",
       "      <td>http://shadetreetechnology.com/V4/validation/a...</td>\n",
       "      <td>phishing</td>\n",
       "    </tr>\n",
       "    <tr>\n",
       "      <th>2</th>\n",
       "      <td>https://support-appleld.com.secureupdate.duila...</td>\n",
       "      <td>phishing</td>\n",
       "    </tr>\n",
       "    <tr>\n",
       "      <th>3</th>\n",
       "      <td>http://rgipt.ac.in</td>\n",
       "      <td>legitimate</td>\n",
       "    </tr>\n",
       "    <tr>\n",
       "      <th>4</th>\n",
       "      <td>http://www.iracing.com/tracks/gateway-motorspo...</td>\n",
       "      <td>legitimate</td>\n",
       "    </tr>\n",
       "    <tr>\n",
       "      <th>5</th>\n",
       "      <td>http://appleid.apple.com-app.es/</td>\n",
       "      <td>phishing</td>\n",
       "    </tr>\n",
       "    <tr>\n",
       "      <th>6</th>\n",
       "      <td>http://www.mutuo.it</td>\n",
       "      <td>legitimate</td>\n",
       "    </tr>\n",
       "    <tr>\n",
       "      <th>7</th>\n",
       "      <td>http://www.shadetreetechnology.com/V4/validati...</td>\n",
       "      <td>phishing</td>\n",
       "    </tr>\n",
       "    <tr>\n",
       "      <th>8</th>\n",
       "      <td>http://vamoaestudiarmedicina.blogspot.com/</td>\n",
       "      <td>legitimate</td>\n",
       "    </tr>\n",
       "    <tr>\n",
       "      <th>9</th>\n",
       "      <td>https://parade.com/425836/joshwigler/the-amazi...</td>\n",
       "      <td>legitimate</td>\n",
       "    </tr>\n",
       "  </tbody>\n",
       "</table>\n",
       "</div>"
      ],
      "text/plain": [
       "                                                 url      status\n",
       "0              http://www.crestonwood.com/router.php  legitimate\n",
       "1  http://shadetreetechnology.com/V4/validation/a...    phishing\n",
       "2  https://support-appleld.com.secureupdate.duila...    phishing\n",
       "3                                 http://rgipt.ac.in  legitimate\n",
       "4  http://www.iracing.com/tracks/gateway-motorspo...  legitimate\n",
       "5                   http://appleid.apple.com-app.es/    phishing\n",
       "6                                http://www.mutuo.it  legitimate\n",
       "7  http://www.shadetreetechnology.com/V4/validati...    phishing\n",
       "8         http://vamoaestudiarmedicina.blogspot.com/  legitimate\n",
       "9  https://parade.com/425836/joshwigler/the-amazi...  legitimate"
      ]
     },
     "execution_count": 5,
     "metadata": {},
     "output_type": "execute_result"
    }
   ],
   "source": [
    "df.head(10)"
   ]
  },
  {
   "cell_type": "code",
   "execution_count": 6,
   "id": "5f080b7b-662f-49d9-af57-32eab31d06a1",
   "metadata": {},
   "outputs": [
    {
     "data": {
      "text/plain": [
       "(11430, 2)"
      ]
     },
     "execution_count": 6,
     "metadata": {},
     "output_type": "execute_result"
    }
   ],
   "source": [
    "df.shape"
   ]
  },
  {
   "cell_type": "code",
   "execution_count": 7,
   "id": "d9759938-7864-4dcd-9e59-b9e6a515764c",
   "metadata": {},
   "outputs": [
    {
     "data": {
      "text/html": [
       "<div>\n",
       "<style scoped>\n",
       "    .dataframe tbody tr th:only-of-type {\n",
       "        vertical-align: middle;\n",
       "    }\n",
       "\n",
       "    .dataframe tbody tr th {\n",
       "        vertical-align: top;\n",
       "    }\n",
       "\n",
       "    .dataframe thead th {\n",
       "        text-align: right;\n",
       "    }\n",
       "</style>\n",
       "<table border=\"1\" class=\"dataframe\">\n",
       "  <thead>\n",
       "    <tr style=\"text-align: right;\">\n",
       "      <th></th>\n",
       "      <th>url</th>\n",
       "      <th>status</th>\n",
       "    </tr>\n",
       "  </thead>\n",
       "  <tbody>\n",
       "    <tr>\n",
       "      <th>count</th>\n",
       "      <td>11430</td>\n",
       "      <td>11430</td>\n",
       "    </tr>\n",
       "    <tr>\n",
       "      <th>unique</th>\n",
       "      <td>11429</td>\n",
       "      <td>2</td>\n",
       "    </tr>\n",
       "    <tr>\n",
       "      <th>top</th>\n",
       "      <td>http://e710z0ear.du.r.appspot.com/c:/users/use...</td>\n",
       "      <td>legitimate</td>\n",
       "    </tr>\n",
       "    <tr>\n",
       "      <th>freq</th>\n",
       "      <td>2</td>\n",
       "      <td>5715</td>\n",
       "    </tr>\n",
       "  </tbody>\n",
       "</table>\n",
       "</div>"
      ],
      "text/plain": [
       "                                                      url      status\n",
       "count                                               11430       11430\n",
       "unique                                              11429           2\n",
       "top     http://e710z0ear.du.r.appspot.com/c:/users/use...  legitimate\n",
       "freq                                                    2        5715"
      ]
     },
     "execution_count": 7,
     "metadata": {},
     "output_type": "execute_result"
    }
   ],
   "source": [
    "df.describe()"
   ]
  },
  {
   "cell_type": "code",
   "execution_count": 8,
   "id": "d9f23ae5-4d62-4704-ac6a-cf819248ab0e",
   "metadata": {},
   "outputs": [
    {
     "name": "stdout",
     "output_type": "stream",
     "text": [
      "<class 'pandas.core.frame.DataFrame'>\n",
      "RangeIndex: 11430 entries, 0 to 11429\n",
      "Data columns (total 2 columns):\n",
      " #   Column  Non-Null Count  Dtype \n",
      "---  ------  --------------  ----- \n",
      " 0   url     11430 non-null  object\n",
      " 1   status  11430 non-null  object\n",
      "dtypes: object(2)\n",
      "memory usage: 178.7+ KB\n"
     ]
    }
   ],
   "source": [
    "df.info()"
   ]
  },
  {
   "cell_type": "code",
   "execution_count": 9,
   "id": "524efb4d-5e19-4a29-a471-bfc6c43088de",
   "metadata": {},
   "outputs": [
    {
     "data": {
      "text/plain": [
       "status\n",
       "legitimate    5715\n",
       "phishing      5715\n",
       "Name: count, dtype: int64"
      ]
     },
     "execution_count": 9,
     "metadata": {},
     "output_type": "execute_result"
    }
   ],
   "source": [
    "df.status.value_counts()"
   ]
  },
  {
   "cell_type": "code",
   "execution_count": 10,
   "id": "a4e73354-2337-4ca3-8863-bc242a10994e",
   "metadata": {},
   "outputs": [
    {
     "data": {
      "text/plain": [
       "url\n",
       "http://e710z0ear.du.r.appspot.com/c:/users/user/downlo                                                                                                                                                                                                                                                                                                                                                                                                                                           2\n",
       "http://www.crestonwood.com/router.php                                                                                                                                                                                                                                                                                                                                                                                                                                                            1\n",
       "https://www.riverbed.com/products/steelcentral/network-performance-management/steelcentral-packet-analyzer.html                                                                                                                                                                                                                                                                                                                                                                                  1\n",
       "http://fience.vot.pl/xl                                                                                                                                                                                                                                                                                                                                                                                                                                                                          1\n",
       "https://usbank.app.link/NquAmzCW01?platform=hootsuite                                                                                                                                                                                                                                                                                                                                                                                                                                            1\n",
       "                                                                                                                                                                                                                                                                                                                                                                                                                                                                                                ..\n",
       "http://www.thenine9.com/wp-admin/identifyuser.php?f4a55601b3bca855460a77ee7dd19e76                                                                                                                                                                                                                                                                                                                                                                                                               1\n",
       "http://cns-international2.com/ssss.htm                                                                                                                                                                                                                                                                                                                                                                                                                                                           1\n",
       "https://www.century21.jp/                                                                                                                                                                                                                                                                                                                                                                                                                                                                        1\n",
       "http://www.piandizano.it/wp-content/moro/                                                                                                                                                                                                                                                                                                                                                                                                                                                        1\n",
       "http://174.139.46.123/ap/signin?openid.pape.max_auth_age=0&amp;openid.return_to=https%3A%2F%2Fwww.amazon.co.jp%2F%3Fref_%3Dnav_em_hd_re_signin&amp;openid.identity=http%3A%2F%2Fspecs.openid.net%2Fauth%2F2.0%2Fidentifier_select&amp;openid.assoc_handle=jpflex&amp;openid.mode=checkid_setup&amp;key=a@b.c&amp;openid.claimed_id=http%3A%2F%2Fspecs.openid.net%2Fauth%2F2.0%2Fidentifier_select&amp;openid.ns=http%3A%2F%2Fspecs.openid.net%2Fauth%2F2.0&amp;&amp;ref_=nav_em_hd_clc_signin    1\n",
       "Name: count, Length: 11429, dtype: int64"
      ]
     },
     "execution_count": 10,
     "metadata": {},
     "output_type": "execute_result"
    }
   ],
   "source": [
    "df['url'].value_counts()"
   ]
  },
  {
   "cell_type": "code",
   "execution_count": 11,
   "id": "e9c70638-29b5-41ae-8bc3-9778a5025cb2",
   "metadata": {},
   "outputs": [
    {
     "data": {
      "text/plain": [
       "'http://e710z0ear.du.r.appspot.com/c:/users/user/downlo'"
      ]
     },
     "execution_count": 11,
     "metadata": {},
     "output_type": "execute_result"
    }
   ],
   "source": [
    "df['url'].mode().iloc[0]"
   ]
  },
  {
   "cell_type": "code",
   "execution_count": 12,
   "id": "bf38d252-a8d7-48ea-a604-4a2fb28f61fa",
   "metadata": {},
   "outputs": [
    {
     "data": {
      "text/html": [
       "<div>\n",
       "<style scoped>\n",
       "    .dataframe tbody tr th:only-of-type {\n",
       "        vertical-align: middle;\n",
       "    }\n",
       "\n",
       "    .dataframe tbody tr th {\n",
       "        vertical-align: top;\n",
       "    }\n",
       "\n",
       "    .dataframe thead th {\n",
       "        text-align: right;\n",
       "    }\n",
       "</style>\n",
       "<table border=\"1\" class=\"dataframe\">\n",
       "  <thead>\n",
       "    <tr style=\"text-align: right;\">\n",
       "      <th></th>\n",
       "      <th>url</th>\n",
       "      <th>status</th>\n",
       "    </tr>\n",
       "  </thead>\n",
       "  <tbody>\n",
       "    <tr>\n",
       "      <th>6035</th>\n",
       "      <td>http://e710z0ear.du.r.appspot.com/c:/users/use...</td>\n",
       "      <td>phishing</td>\n",
       "    </tr>\n",
       "    <tr>\n",
       "      <th>11305</th>\n",
       "      <td>http://e710z0ear.du.r.appspot.com/c:/users/use...</td>\n",
       "      <td>phishing</td>\n",
       "    </tr>\n",
       "  </tbody>\n",
       "</table>\n",
       "</div>"
      ],
      "text/plain": [
       "                                                     url    status\n",
       "6035   http://e710z0ear.du.r.appspot.com/c:/users/use...  phishing\n",
       "11305  http://e710z0ear.du.r.appspot.com/c:/users/use...  phishing"
      ]
     },
     "execution_count": 12,
     "metadata": {},
     "output_type": "execute_result"
    }
   ],
   "source": [
    "df[df['url'] == 'http://e710z0ear.du.r.appspot.com/c:/users/user/downlo']"
   ]
  },
  {
   "cell_type": "markdown",
   "id": "d87764a7-b048-45b4-af7c-c265068513e5",
   "metadata": {},
   "source": [
    "1. Cargue el dataset en un dataframe de pandas, muestre un ejemplo de cinco observaciones.\n",
    "   -No tiene valores nulos, asi que la data esta limpia\n",
    "   -Solo se clasifica el status en phishing o en legitimate\n",
    "   -Tenemos la misma cantidad de legitimos y de phishing\n",
    "   -El valor \"http://e710z0ear.du.r.appspot.com/c:/users/user/downlo\" esta repetido dos veces.\n",
    "   -Tienen el mismo status el valor repetido.\n",
    "2. Muestre la cantidad de observaciones etiquetadas en la columna status como “legit” y como\n",
    "“pishing”. ¿Está balanceado el dataset?\n",
    "    -Claro como mencionaba en el inciso anterior si esta balanceado porque hay la misma cantidad de ambos. aunque tecnicamnete hay un dato       repetido. por lo que si nos ponemos muy tecnicos esta \"relativamente balanceado\" pero en general para mi esta muy bien. de ser      necesario lo balancearemos quitando el valor extra y uno de los de legitimate.\n",
    "    "
   ]
  },
  {
   "cell_type": "markdown",
   "id": "957862f9-c1ca-436e-b1d4-cca29650e4f8",
   "metadata": {},
   "source": [
    "Derivación de características\n",
    "\n",
    "1. ¿Qué ventajas tiene el análisis de una URL contra el análisis de otros datos, cómo el tiempo\n",
    "de vida del dominio, o las características de la página Web?\n",
    "\n",
    "Que podes identificar solo con ese texto mucha información relevante sin necesidad de gastar recursos masivos, ademas se peude aprovechar el analisis de texto para ver caracteres inusuales que no se ven normalmente. Tambien se puede analizar un numero extenso de urls ya que usa pocos recursos. Tambien hay sitios webs que van aumentando los casos y se puede aprovechar esa data en tiempo real para saber que URLs son las mas conocidas para eso.\n",
    "   \n",
    "2. ¿Qué características de una URL son más prometedoras para la detección de phishing?\n",
    "   \n",
    "la presencia de subdominios, nombres de dominio, rutas de archivos y parámetros. Además, características como el número total de barras, la longitud, las posiciones de los puntos y los números en los nombres de subdominios y URL son importantes. Otras características valiosas son los componentes sintácticos de la URL, que son jerárquicos en secuencia, y el uso de algoritmos metaheurísticos y modelos de aprendizaje automático para fines de entrenamiento y detección.\n",
    "\n",
    "\n",
    "\n",
    "\n"
   ]
  },
  {
   "cell_type": "markdown",
   "id": "51b73ede-b40e-496b-8f47-8068bd28d982",
   "metadata": {},
   "source": [
    "En base a la respuesta anterior escriba al menos quince funciones basadas en los artículos, para\n",
    "derivar características que un modelo pueda utilizar y añada dichas características al dataset original.\n",
    "\n",
    "-Función para extraer el número de subdominios en una URL.\n",
    "-Función para calcular la longitud del nombre de dominio.\n",
    "-Función para determinar la presencia de rutas de archivos en la URL.\n",
    "-Función para contar el número de parámetros en la URL.\n",
    "-Función para calcular el número total de barras en la URL.\n",
    "-Función para identificar las posiciones de los puntos en la URL.\n",
    "-Función para detectar números en el subdominio y los nombres de URL.\n",
    "-Función para analizar la estructura jerárquica de la URL.\n",
    "-Función para extraer la extensión del dominio (por ejemplo, .com, .org).\n",
    "-Función para verificar la presencia de caracteres poco comunes en la URL.\n",
    "-Función para determinar la presencia de guiones en el nombre de dominio.\n",
    "-Función para calcular la proporción de vocales a consonantes en la URL.\n",
    "-Función para identificar el uso de caracteres especiales en la URL.\n",
    "-Función para analizar la entropía de los componentes de la URL.\n",
    "-Función para detectar patrones en secuencias de URL."
   ]
  },
  {
   "cell_type": "markdown",
   "id": "627536d6-a656-4de1-9efa-fc892ba481d5",
   "metadata": {},
   "source": [
    "Preprocesamiento"
   ]
  },
  {
   "cell_type": "markdown",
   "id": "b712bdbc-0b7d-4aab-8989-286f9a89ff58",
   "metadata": {},
   "source": [
    "Pasar a valores binarios"
   ]
  },
  {
   "cell_type": "code",
   "execution_count": 13,
   "id": "e4bed360-6c1f-43c7-b8ec-a8e8952d83b5",
   "metadata": {},
   "outputs": [],
   "source": [
    "maping = {'legitimate': 0, 'phishing': 1}\n",
    "# Convertir los valores en la columna 'status' a números\n",
    "df['status_numerico'] = df['status'].replace(maping)\n"
   ]
  },
  {
   "cell_type": "code",
   "execution_count": 14,
   "id": "f7a6ee79-77db-403f-8244-128f968cfa15",
   "metadata": {},
   "outputs": [
    {
     "data": {
      "text/html": [
       "<div>\n",
       "<style scoped>\n",
       "    .dataframe tbody tr th:only-of-type {\n",
       "        vertical-align: middle;\n",
       "    }\n",
       "\n",
       "    .dataframe tbody tr th {\n",
       "        vertical-align: top;\n",
       "    }\n",
       "\n",
       "    .dataframe thead th {\n",
       "        text-align: right;\n",
       "    }\n",
       "</style>\n",
       "<table border=\"1\" class=\"dataframe\">\n",
       "  <thead>\n",
       "    <tr style=\"text-align: right;\">\n",
       "      <th></th>\n",
       "      <th>url</th>\n",
       "      <th>status</th>\n",
       "      <th>status_numerico</th>\n",
       "    </tr>\n",
       "  </thead>\n",
       "  <tbody>\n",
       "    <tr>\n",
       "      <th>0</th>\n",
       "      <td>http://www.crestonwood.com/router.php</td>\n",
       "      <td>legitimate</td>\n",
       "      <td>0</td>\n",
       "    </tr>\n",
       "    <tr>\n",
       "      <th>1</th>\n",
       "      <td>http://shadetreetechnology.com/V4/validation/a...</td>\n",
       "      <td>phishing</td>\n",
       "      <td>1</td>\n",
       "    </tr>\n",
       "    <tr>\n",
       "      <th>2</th>\n",
       "      <td>https://support-appleld.com.secureupdate.duila...</td>\n",
       "      <td>phishing</td>\n",
       "      <td>1</td>\n",
       "    </tr>\n",
       "    <tr>\n",
       "      <th>3</th>\n",
       "      <td>http://rgipt.ac.in</td>\n",
       "      <td>legitimate</td>\n",
       "      <td>0</td>\n",
       "    </tr>\n",
       "    <tr>\n",
       "      <th>4</th>\n",
       "      <td>http://www.iracing.com/tracks/gateway-motorspo...</td>\n",
       "      <td>legitimate</td>\n",
       "      <td>0</td>\n",
       "    </tr>\n",
       "  </tbody>\n",
       "</table>\n",
       "</div>"
      ],
      "text/plain": [
       "                                                 url      status  \\\n",
       "0              http://www.crestonwood.com/router.php  legitimate   \n",
       "1  http://shadetreetechnology.com/V4/validation/a...    phishing   \n",
       "2  https://support-appleld.com.secureupdate.duila...    phishing   \n",
       "3                                 http://rgipt.ac.in  legitimate   \n",
       "4  http://www.iracing.com/tracks/gateway-motorspo...  legitimate   \n",
       "\n",
       "   status_numerico  \n",
       "0                0  \n",
       "1                1  \n",
       "2                1  \n",
       "3                0  \n",
       "4                0  "
      ]
     },
     "execution_count": 14,
     "metadata": {},
     "output_type": "execute_result"
    }
   ],
   "source": [
    "df.head()"
   ]
  },
  {
   "cell_type": "code",
   "execution_count": 15,
   "id": "22741dfc-ed01-4aa0-b2e1-fb0c180ed911",
   "metadata": {},
   "outputs": [],
   "source": [
    "df.drop(columns=['status'], inplace=True)"
   ]
  },
  {
   "cell_type": "code",
   "execution_count": 16,
   "id": "a9b389a9-ea19-4f8e-8707-09500f6ed8f7",
   "metadata": {},
   "outputs": [],
   "source": [
    "##Apply all the new columns from the functions\n",
    "df['Subdomain_Count'] = df['url'].apply(extract_subdomain_count)\n",
    "df['Domain_Length'] = df['url'].apply(calculate_domain_length)\n",
    "df['Has_File_Path'] = df['url'].apply(has_file_path)\n",
    "df['Parameter_Count'] = df['url'].apply(count_parameters)\n",
    "df['Slash_Count'] = df['url'].apply(count_slashes)\n",
    "df['Dot_Positions'] = df['url'].apply(identify_dots_positions)\n",
    "df['Number_Count'] = df['url'].apply(detect_numbers)\n",
    "df['Hierarchy_Level'] = df['url'].apply(analyze_hierarchy)\n",
    "df['Domain_Extension'] = df['url'].apply(extract_domain_extension)\n",
    "df['Has_Uncommon_Chars'] = df['url'].apply(check_uncommon_characters)\n",
    "df['Has_Hyphens_Domain'] = df['url'].apply(check_hyphens_domain)\n",
    "df['Vowel_Consonant_Ratio'] = df['url'].apply(calculate_vowel_consonant_ratio)\n",
    "df['Special_Char_Count'] = df['url'].apply(identify_special_characters)\n",
    "df['Entropy'] = df['url'].apply(analyze_entropy)\n",
    "df['Has_Url_Pattern'] = df['url'].apply(detect_url_patterns)"
   ]
  },
  {
   "cell_type": "code",
   "execution_count": 17,
   "id": "cf8aa9d4-5364-455e-b21d-b4e7ba96084c",
   "metadata": {},
   "outputs": [
    {
     "data": {
      "text/html": [
       "<div>\n",
       "<style scoped>\n",
       "    .dataframe tbody tr th:only-of-type {\n",
       "        vertical-align: middle;\n",
       "    }\n",
       "\n",
       "    .dataframe tbody tr th {\n",
       "        vertical-align: top;\n",
       "    }\n",
       "\n",
       "    .dataframe thead th {\n",
       "        text-align: right;\n",
       "    }\n",
       "</style>\n",
       "<table border=\"1\" class=\"dataframe\">\n",
       "  <thead>\n",
       "    <tr style=\"text-align: right;\">\n",
       "      <th></th>\n",
       "      <th>url</th>\n",
       "      <th>status_numerico</th>\n",
       "      <th>Subdomain_Count</th>\n",
       "      <th>Domain_Length</th>\n",
       "      <th>Has_File_Path</th>\n",
       "      <th>Parameter_Count</th>\n",
       "      <th>Slash_Count</th>\n",
       "      <th>Dot_Positions</th>\n",
       "      <th>Number_Count</th>\n",
       "      <th>Hierarchy_Level</th>\n",
       "      <th>Domain_Extension</th>\n",
       "      <th>Has_Uncommon_Chars</th>\n",
       "      <th>Has_Hyphens_Domain</th>\n",
       "      <th>Vowel_Consonant_Ratio</th>\n",
       "      <th>Special_Char_Count</th>\n",
       "      <th>Entropy</th>\n",
       "      <th>Has_Url_Pattern</th>\n",
       "    </tr>\n",
       "  </thead>\n",
       "  <tbody>\n",
       "    <tr>\n",
       "      <th>0</th>\n",
       "      <td>http://www.crestonwood.com/router.php</td>\n",
       "      <td>0</td>\n",
       "      <td>2</td>\n",
       "      <td>19</td>\n",
       "      <td>1</td>\n",
       "      <td>1</td>\n",
       "      <td>3</td>\n",
       "      <td>[10, 22, 33]</td>\n",
       "      <td>0</td>\n",
       "      <td>2</td>\n",
       "      <td>com</td>\n",
       "      <td>False</td>\n",
       "      <td>False</td>\n",
       "      <td>0.363636</td>\n",
       "      <td>0</td>\n",
       "      <td>0.666667</td>\n",
       "      <td>1</td>\n",
       "    </tr>\n",
       "    <tr>\n",
       "      <th>1</th>\n",
       "      <td>http://shadetreetechnology.com/V4/validation/a...</td>\n",
       "      <td>1</td>\n",
       "      <td>1</td>\n",
       "      <td>23</td>\n",
       "      <td>1</td>\n",
       "      <td>1</td>\n",
       "      <td>5</td>\n",
       "      <td>[26]</td>\n",
       "      <td>17</td>\n",
       "      <td>4</td>\n",
       "      <td>com</td>\n",
       "      <td>True</td>\n",
       "      <td>False</td>\n",
       "      <td>0.827586</td>\n",
       "      <td>1</td>\n",
       "      <td>0.666667</td>\n",
       "      <td>1</td>\n",
       "    </tr>\n",
       "    <tr>\n",
       "      <th>2</th>\n",
       "      <td>https://support-appleld.com.secureupdate.duila...</td>\n",
       "      <td>1</td>\n",
       "      <td>4</td>\n",
       "      <td>50</td>\n",
       "      <td>1</td>\n",
       "      <td>3</td>\n",
       "      <td>5</td>\n",
       "      <td>[23, 27, 40, 54]</td>\n",
       "      <td>19</td>\n",
       "      <td>4</td>\n",
       "      <td>com</td>\n",
       "      <td>True</td>\n",
       "      <td>True</td>\n",
       "      <td>0.517241</td>\n",
       "      <td>1</td>\n",
       "      <td>0.833333</td>\n",
       "      <td>1</td>\n",
       "    </tr>\n",
       "    <tr>\n",
       "      <th>3</th>\n",
       "      <td>http://rgipt.ac.in</td>\n",
       "      <td>0</td>\n",
       "      <td>2</td>\n",
       "      <td>11</td>\n",
       "      <td>0</td>\n",
       "      <td>1</td>\n",
       "      <td>2</td>\n",
       "      <td>[12, 15]</td>\n",
       "      <td>0</td>\n",
       "      <td>1</td>\n",
       "      <td>in</td>\n",
       "      <td>False</td>\n",
       "      <td>False</td>\n",
       "      <td>0.300000</td>\n",
       "      <td>0</td>\n",
       "      <td>0.500000</td>\n",
       "      <td>1</td>\n",
       "    </tr>\n",
       "    <tr>\n",
       "      <th>4</th>\n",
       "      <td>http://www.iracing.com/tracks/gateway-motorspo...</td>\n",
       "      <td>0</td>\n",
       "      <td>2</td>\n",
       "      <td>15</td>\n",
       "      <td>1</td>\n",
       "      <td>1</td>\n",
       "      <td>5</td>\n",
       "      <td>[10, 18]</td>\n",
       "      <td>0</td>\n",
       "      <td>4</td>\n",
       "      <td>com</td>\n",
       "      <td>False</td>\n",
       "      <td>False</td>\n",
       "      <td>0.363636</td>\n",
       "      <td>0</td>\n",
       "      <td>0.666667</td>\n",
       "      <td>1</td>\n",
       "    </tr>\n",
       "  </tbody>\n",
       "</table>\n",
       "</div>"
      ],
      "text/plain": [
       "                                                 url  status_numerico  \\\n",
       "0              http://www.crestonwood.com/router.php                0   \n",
       "1  http://shadetreetechnology.com/V4/validation/a...                1   \n",
       "2  https://support-appleld.com.secureupdate.duila...                1   \n",
       "3                                 http://rgipt.ac.in                0   \n",
       "4  http://www.iracing.com/tracks/gateway-motorspo...                0   \n",
       "\n",
       "   Subdomain_Count  Domain_Length  Has_File_Path  Parameter_Count  \\\n",
       "0                2             19              1                1   \n",
       "1                1             23              1                1   \n",
       "2                4             50              1                3   \n",
       "3                2             11              0                1   \n",
       "4                2             15              1                1   \n",
       "\n",
       "   Slash_Count     Dot_Positions  Number_Count  Hierarchy_Level  \\\n",
       "0            3      [10, 22, 33]             0                2   \n",
       "1            5              [26]            17                4   \n",
       "2            5  [23, 27, 40, 54]            19                4   \n",
       "3            2          [12, 15]             0                1   \n",
       "4            5          [10, 18]             0                4   \n",
       "\n",
       "  Domain_Extension  Has_Uncommon_Chars  Has_Hyphens_Domain  \\\n",
       "0              com               False               False   \n",
       "1              com                True               False   \n",
       "2              com                True                True   \n",
       "3               in               False               False   \n",
       "4              com               False               False   \n",
       "\n",
       "   Vowel_Consonant_Ratio  Special_Char_Count   Entropy  Has_Url_Pattern  \n",
       "0               0.363636                   0  0.666667                1  \n",
       "1               0.827586                   1  0.666667                1  \n",
       "2               0.517241                   1  0.833333                1  \n",
       "3               0.300000                   0  0.500000                1  \n",
       "4               0.363636                   0  0.666667                1  "
      ]
     },
     "execution_count": 17,
     "metadata": {},
     "output_type": "execute_result"
    }
   ],
   "source": [
    "df.head()"
   ]
  },
  {
   "cell_type": "markdown",
   "id": "ab6b05de-0c9f-43ae-8934-be620ed9f176",
   "metadata": {},
   "source": [
    "Visualización de los resultados"
   ]
  },
  {
   "cell_type": "code",
   "execution_count": 19,
   "id": "3f421748-53a8-4678-b2ce-02209f3542a0",
   "metadata": {},
   "outputs": [],
   "source": [
    "profile = ProfileReport(df, title=\"Profiling Report\")"
   ]
  },
  {
   "cell_type": "code",
   "execution_count": 20,
   "id": "b33b9fc3-2d69-4dea-9b39-f13bb86c275c",
   "metadata": {},
   "outputs": [
    {
     "name": "stderr",
     "output_type": "stream",
     "text": [
      "Summarize dataset: 100%|█████████████| 90/90 [00:03<00:00, 23.68it/s, Completed]\n",
      "Generate report structure: 100%|██████████████████| 1/1 [00:02<00:00,  2.64s/it]\n",
      "Render HTML: 100%|████████████████████████████████| 1/1 [00:00<00:00,  1.43it/s]\n",
      "Export report to file: 100%|█████████████████████| 1/1 [00:00<00:00, 175.19it/s]\n"
     ]
    }
   ],
   "source": [
    "profile.to_file(\"your_report.html\")"
   ]
  },
  {
   "cell_type": "code",
   "execution_count": 21,
   "id": "a8f58431-62a2-472a-9213-3460d12f3eef",
   "metadata": {},
   "outputs": [],
   "source": [
    "##Seleccion de caracteristicas"
   ]
  },
  {
   "cell_type": "code",
   "execution_count": 22,
   "id": "c0e0dac3-a911-473f-8de2-85d67de89960",
   "metadata": {},
   "outputs": [],
   "source": [
    "df.drop(columns=['Has_Url_Pattern', 'Dot_Positions','Domain_Length', 'Domain_Extension','Vowel_Consonant_Ratio', 'Has_Hyphens_Domain', 'url'], inplace=True)"
   ]
  },
  {
   "cell_type": "code",
   "execution_count": 23,
   "id": "f352132e-3725-4bab-9691-8b2dfa783088",
   "metadata": {},
   "outputs": [],
   "source": [
    "##RANDOM FOREST"
   ]
  },
  {
   "cell_type": "code",
   "execution_count": 24,
   "id": "d3b1ebb3-4634-4868-b39d-ce63f252e889",
   "metadata": {},
   "outputs": [],
   "source": [
    "from sklearn.model_selection import train_test_split\n",
    "from sklearn.ensemble import RandomForestClassifier\n",
    "from sklearn.metrics import accuracy_score\n"
   ]
  },
  {
   "cell_type": "code",
   "execution_count": 25,
   "id": "3ef4931f-69f9-4ac1-8a6f-cff3bd9fc880",
   "metadata": {},
   "outputs": [
    {
     "data": {
      "text/html": [
       "<div>\n",
       "<style scoped>\n",
       "    .dataframe tbody tr th:only-of-type {\n",
       "        vertical-align: middle;\n",
       "    }\n",
       "\n",
       "    .dataframe tbody tr th {\n",
       "        vertical-align: top;\n",
       "    }\n",
       "\n",
       "    .dataframe thead th {\n",
       "        text-align: right;\n",
       "    }\n",
       "</style>\n",
       "<table border=\"1\" class=\"dataframe\">\n",
       "  <thead>\n",
       "    <tr style=\"text-align: right;\">\n",
       "      <th></th>\n",
       "      <th>status_numerico</th>\n",
       "      <th>Subdomain_Count</th>\n",
       "      <th>Has_File_Path</th>\n",
       "      <th>Parameter_Count</th>\n",
       "      <th>Slash_Count</th>\n",
       "      <th>Number_Count</th>\n",
       "      <th>Hierarchy_Level</th>\n",
       "      <th>Has_Uncommon_Chars</th>\n",
       "      <th>Special_Char_Count</th>\n",
       "      <th>Entropy</th>\n",
       "    </tr>\n",
       "  </thead>\n",
       "  <tbody>\n",
       "    <tr>\n",
       "      <th>0</th>\n",
       "      <td>0</td>\n",
       "      <td>2</td>\n",
       "      <td>1</td>\n",
       "      <td>1</td>\n",
       "      <td>3</td>\n",
       "      <td>0</td>\n",
       "      <td>2</td>\n",
       "      <td>False</td>\n",
       "      <td>0</td>\n",
       "      <td>0.666667</td>\n",
       "    </tr>\n",
       "    <tr>\n",
       "      <th>1</th>\n",
       "      <td>1</td>\n",
       "      <td>1</td>\n",
       "      <td>1</td>\n",
       "      <td>1</td>\n",
       "      <td>5</td>\n",
       "      <td>17</td>\n",
       "      <td>4</td>\n",
       "      <td>True</td>\n",
       "      <td>1</td>\n",
       "      <td>0.666667</td>\n",
       "    </tr>\n",
       "    <tr>\n",
       "      <th>2</th>\n",
       "      <td>1</td>\n",
       "      <td>4</td>\n",
       "      <td>1</td>\n",
       "      <td>3</td>\n",
       "      <td>5</td>\n",
       "      <td>19</td>\n",
       "      <td>4</td>\n",
       "      <td>True</td>\n",
       "      <td>1</td>\n",
       "      <td>0.833333</td>\n",
       "    </tr>\n",
       "    <tr>\n",
       "      <th>3</th>\n",
       "      <td>0</td>\n",
       "      <td>2</td>\n",
       "      <td>0</td>\n",
       "      <td>1</td>\n",
       "      <td>2</td>\n",
       "      <td>0</td>\n",
       "      <td>1</td>\n",
       "      <td>False</td>\n",
       "      <td>0</td>\n",
       "      <td>0.500000</td>\n",
       "    </tr>\n",
       "    <tr>\n",
       "      <th>4</th>\n",
       "      <td>0</td>\n",
       "      <td>2</td>\n",
       "      <td>1</td>\n",
       "      <td>1</td>\n",
       "      <td>5</td>\n",
       "      <td>0</td>\n",
       "      <td>4</td>\n",
       "      <td>False</td>\n",
       "      <td>0</td>\n",
       "      <td>0.666667</td>\n",
       "    </tr>\n",
       "    <tr>\n",
       "      <th>...</th>\n",
       "      <td>...</td>\n",
       "      <td>...</td>\n",
       "      <td>...</td>\n",
       "      <td>...</td>\n",
       "      <td>...</td>\n",
       "      <td>...</td>\n",
       "      <td>...</td>\n",
       "      <td>...</td>\n",
       "      <td>...</td>\n",
       "      <td>...</td>\n",
       "    </tr>\n",
       "    <tr>\n",
       "      <th>11425</th>\n",
       "      <td>0</td>\n",
       "      <td>2</td>\n",
       "      <td>1</td>\n",
       "      <td>1</td>\n",
       "      <td>4</td>\n",
       "      <td>0</td>\n",
       "      <td>3</td>\n",
       "      <td>False</td>\n",
       "      <td>0</td>\n",
       "      <td>0.666667</td>\n",
       "    </tr>\n",
       "    <tr>\n",
       "      <th>11426</th>\n",
       "      <td>1</td>\n",
       "      <td>2</td>\n",
       "      <td>1</td>\n",
       "      <td>1</td>\n",
       "      <td>5</td>\n",
       "      <td>2</td>\n",
       "      <td>4</td>\n",
       "      <td>True</td>\n",
       "      <td>12</td>\n",
       "      <td>0.833333</td>\n",
       "    </tr>\n",
       "    <tr>\n",
       "      <th>11427</th>\n",
       "      <td>0</td>\n",
       "      <td>2</td>\n",
       "      <td>1</td>\n",
       "      <td>1</td>\n",
       "      <td>5</td>\n",
       "      <td>15</td>\n",
       "      <td>4</td>\n",
       "      <td>True</td>\n",
       "      <td>7</td>\n",
       "      <td>0.833333</td>\n",
       "    </tr>\n",
       "    <tr>\n",
       "      <th>11428</th>\n",
       "      <td>0</td>\n",
       "      <td>2</td>\n",
       "      <td>1</td>\n",
       "      <td>1</td>\n",
       "      <td>3</td>\n",
       "      <td>0</td>\n",
       "      <td>2</td>\n",
       "      <td>False</td>\n",
       "      <td>0</td>\n",
       "      <td>0.666667</td>\n",
       "    </tr>\n",
       "    <tr>\n",
       "      <th>11429</th>\n",
       "      <td>1</td>\n",
       "      <td>3</td>\n",
       "      <td>1</td>\n",
       "      <td>10</td>\n",
       "      <td>4</td>\n",
       "      <td>41</td>\n",
       "      <td>3</td>\n",
       "      <td>True</td>\n",
       "      <td>7</td>\n",
       "      <td>0.833333</td>\n",
       "    </tr>\n",
       "  </tbody>\n",
       "</table>\n",
       "<p>11430 rows × 10 columns</p>\n",
       "</div>"
      ],
      "text/plain": [
       "       status_numerico  Subdomain_Count  Has_File_Path  Parameter_Count  \\\n",
       "0                    0                2              1                1   \n",
       "1                    1                1              1                1   \n",
       "2                    1                4              1                3   \n",
       "3                    0                2              0                1   \n",
       "4                    0                2              1                1   \n",
       "...                ...              ...            ...              ...   \n",
       "11425                0                2              1                1   \n",
       "11426                1                2              1                1   \n",
       "11427                0                2              1                1   \n",
       "11428                0                2              1                1   \n",
       "11429                1                3              1               10   \n",
       "\n",
       "       Slash_Count  Number_Count  Hierarchy_Level  Has_Uncommon_Chars  \\\n",
       "0                3             0                2               False   \n",
       "1                5            17                4                True   \n",
       "2                5            19                4                True   \n",
       "3                2             0                1               False   \n",
       "4                5             0                4               False   \n",
       "...            ...           ...              ...                 ...   \n",
       "11425            4             0                3               False   \n",
       "11426            5             2                4                True   \n",
       "11427            5            15                4                True   \n",
       "11428            3             0                2               False   \n",
       "11429            4            41                3                True   \n",
       "\n",
       "       Special_Char_Count   Entropy  \n",
       "0                       0  0.666667  \n",
       "1                       1  0.666667  \n",
       "2                       1  0.833333  \n",
       "3                       0  0.500000  \n",
       "4                       0  0.666667  \n",
       "...                   ...       ...  \n",
       "11425                   0  0.666667  \n",
       "11426                  12  0.833333  \n",
       "11427                   7  0.833333  \n",
       "11428                   0  0.666667  \n",
       "11429                   7  0.833333  \n",
       "\n",
       "[11430 rows x 10 columns]"
      ]
     },
     "execution_count": 25,
     "metadata": {},
     "output_type": "execute_result"
    }
   ],
   "source": [
    "df"
   ]
  },
  {
   "cell_type": "code",
   "execution_count": 31,
   "id": "c4fc49e0-a593-4d27-947c-69b3b6398c40",
   "metadata": {},
   "outputs": [
    {
     "name": "stdout",
     "output_type": "stream",
     "text": [
      "Accuracy on validation set: 0.7895043731778426\n",
      "Accuracy on test set: 0.7785769828926905\n"
     ]
    }
   ],
   "source": [
    "\n",
    "#entrenamiento (55%) y de prueba (45%)\n",
    "X_train, X_test, y_train, y_test = train_test_split(df.drop('status_numerico', axis=1), df['status_numerico'], test_size=0.45, random_state=42)\n",
    "\n",
    "# Divide los datos de entrenamiento en conjuntos de entrenamiento (55%) y de validación (15%)\n",
    "X_train, X_val, y_train, y_val = train_test_split(X_train, y_train, test_size=0.15/0.55, random_state=42)\n",
    "\n",
    "# Entrenar el modelo de Random Forest\n",
    "clf = RandomForestClassifier(random_state=42)\n",
    "clf.fit(X_train, y_train)\n",
    "\n",
    "# Realizar predicciones en el conjunto de validación\n",
    "y_val_pred = clf.predict(X_val)\n",
    "\n",
    "# Calcular la precisión del modelo en el conjunto de validación\n",
    "val_accuracy = accuracy_score(y_val, y_val_pred)\n",
    "print(\"Accuracy on validation set:\", val_accuracy)\n",
    "\n",
    "# Realizar predicciones en el conjunto de prueba\n",
    "y_test_pred_random_forrest = clf.predict(X_test)\n",
    "\n",
    "# Calcular la precisión del modelo en el conjunto de prueba\n",
    "test_accuracy = accuracy_score(y_test, y_test_pred_random_forrest)\n",
    "print(\"Accuracy on test set:\", test_accuracy)\n",
    "\n",
    "y_val_random_forrest = y_val\n",
    "y_val_pred_random_forrest = y_val_pred"
   ]
  },
  {
   "cell_type": "code",
   "execution_count": 32,
   "id": "cc0c6dac-c556-4b89-b5c4-4f58e3a5daba",
   "metadata": {},
   "outputs": [],
   "source": [
    "## Gradient boost Machine"
   ]
  },
  {
   "cell_type": "code",
   "execution_count": 33,
   "id": "383722a9-88ac-41cc-be03-6c50730c0665",
   "metadata": {},
   "outputs": [
    {
     "name": "stdout",
     "output_type": "stream",
     "text": [
      "Accuracy on validation set: 0.7883381924198251\n",
      "Accuracy on test set: 0.7828538102643857\n"
     ]
    }
   ],
   "source": [
    "from sklearn.model_selection import train_test_split\n",
    "from sklearn.ensemble import GradientBoostingClassifier\n",
    "from sklearn.metrics import accuracy_score\n",
    "\n",
    "# Supongamos que tienes un DataFrame llamado 'df' que contiene tus datos, y una columna 'target' que indica si una URL es phishing o legítima.\n",
    "\n",
    "# Divide los datos en conjuntos de entrenamiento (55%) y de prueba (45%)\n",
    "X_train, X_test, y_train, y_test = train_test_split(df.drop('status_numerico', axis=1), df['status_numerico'], test_size=0.45, random_state=42)\n",
    "\n",
    "# Divide los datos de entrenamiento en conjuntos de entrenamiento (55%) y de validación (15%)\n",
    "X_train, X_val, y_train, y_val = train_test_split(X_train, y_train, test_size=0.15/0.55, random_state=42)\n",
    "\n",
    "# Entrenar el modelo de Gradient Boosting Machine\n",
    "clf = GradientBoostingClassifier(random_state=42)\n",
    "clf.fit(X_train, y_train)\n",
    "\n",
    "# Realizar predicciones en el conjunto de validación\n",
    "y_val_pred = clf.predict(X_val)\n",
    "\n",
    "# Calcular la precisión del modelo en el conjunto de validación\n",
    "val_accuracy = accuracy_score(y_val, y_val_pred)\n",
    "print(\"Accuracy on validation set:\", val_accuracy)\n",
    "\n",
    "# Realizar predicciones en el conjunto de prueba\n",
    "y_test_pred_gradient_boost = clf.predict(X_test)\n",
    "\n",
    "# Calcular la precisión del modelo en el conjunto de prueba\n",
    "test_accuracy = accuracy_score(y_test, y_test_pred_gradient_boost)\n",
    "print(\"Accuracy on test set:\", test_accuracy)\n"
   ]
  },
  {
   "cell_type": "code",
   "execution_count": 34,
   "id": "672a102f-4169-406b-9cf0-1e25ae07da51",
   "metadata": {},
   "outputs": [],
   "source": [
    "\n",
    "# Supongamos que ya tienes los valores verdaderos (y_true) y predichos (y_pred) para tus modelos de Random Forest y Gradient Boosting Machine\n",
    "\n",
    "# Calcular las métricas para Random Forest\n",
    "rf_metrics = calculate_metrics(y_val_random_forrest, y_val_pred_random_forrest, 'Random Forest')\n",
    "\n",
    "# Calcular las métricas para Gradient Boosting Machine\n",
    "gbm_metrics = calculate_metrics(y_val, y_val_pred, 'Gradient Boosting Machine')\n",
    "\n",
    "# Concatenar los DataFrames de métricas\n",
    "metrics_table = pd.concat([rf_metrics, gbm_metrics], ignore_index=True)\n"
   ]
  },
  {
   "cell_type": "code",
   "execution_count": 35,
   "id": "37696c7d-bf3b-4bab-84a7-ad857fac7787",
   "metadata": {},
   "outputs": [
    {
     "data": {
      "text/html": [
       "<div>\n",
       "<style scoped>\n",
       "    .dataframe tbody tr th:only-of-type {\n",
       "        vertical-align: middle;\n",
       "    }\n",
       "\n",
       "    .dataframe tbody tr th {\n",
       "        vertical-align: top;\n",
       "    }\n",
       "\n",
       "    .dataframe thead th {\n",
       "        text-align: right;\n",
       "    }\n",
       "</style>\n",
       "<table border=\"1\" class=\"dataframe\">\n",
       "  <thead>\n",
       "    <tr style=\"text-align: right;\">\n",
       "      <th></th>\n",
       "      <th>Model</th>\n",
       "      <th>True Negative</th>\n",
       "      <th>False Positive</th>\n",
       "      <th>False Negative</th>\n",
       "      <th>True Positive</th>\n",
       "      <th>Precision</th>\n",
       "      <th>Recall</th>\n",
       "      <th>AUC-ROC</th>\n",
       "    </tr>\n",
       "  </thead>\n",
       "  <tbody>\n",
       "    <tr>\n",
       "      <th>0</th>\n",
       "      <td>Random Forest</td>\n",
       "      <td>699</td>\n",
       "      <td>147</td>\n",
       "      <td>214</td>\n",
       "      <td>655</td>\n",
       "      <td>0.816708</td>\n",
       "      <td>0.753740</td>\n",
       "      <td>0.789991</td>\n",
       "    </tr>\n",
       "    <tr>\n",
       "      <th>1</th>\n",
       "      <td>Gradient Boosting Machine</td>\n",
       "      <td>701</td>\n",
       "      <td>145</td>\n",
       "      <td>218</td>\n",
       "      <td>651</td>\n",
       "      <td>0.817839</td>\n",
       "      <td>0.749137</td>\n",
       "      <td>0.788871</td>\n",
       "    </tr>\n",
       "  </tbody>\n",
       "</table>\n",
       "</div>"
      ],
      "text/plain": [
       "                       Model  True Negative  False Positive  False Negative  \\\n",
       "0              Random Forest            699             147             214   \n",
       "1  Gradient Boosting Machine            701             145             218   \n",
       "\n",
       "   True Positive  Precision    Recall   AUC-ROC  \n",
       "0            655   0.816708  0.753740  0.789991  \n",
       "1            651   0.817839  0.749137  0.788871  "
      ]
     },
     "execution_count": 35,
     "metadata": {},
     "output_type": "execute_result"
    }
   ],
   "source": [
    "metrics_table.head()"
   ]
  },
  {
   "cell_type": "markdown",
   "id": "3589f72a-0fe7-4b0d-be81-60ca4e2c7102",
   "metadata": {},
   "source": [
    "En resumen, tanto el Random Forest como el Gradient Boosting Machine parecen tener un buen rendimiento en la detección de phishing, con altas precisiones, recalls y AUC-ROC."
   ]
  },
  {
   "cell_type": "markdown",
   "id": "733ccb58-2274-49ce-962e-c17b640dadb3",
   "metadata": {},
   "source": [
    "3. ¿Cuál es el impacto de clasificar un sitio legítimo como phishing?\n",
    "   Que no le llegue la informacion a una persona que puede ser importante y que ocasione problemas internos y de molestia de los end-users.\n",
    "4. ¿Cuál es el impacto de clasificar un sitio de phishing como legítimo?\n",
    "   Que se filtraria informacion de la empresa, hay diferentes niveles pero podria ser desde sus datos personales hasta tarjetas de credito o   informacion sensible.\n",
    "5. En base a las respuestas anteriores, ¿Qué métrica elegiría para comparar modelos similares\n",
    "de clasificación de phishing?\n",
    "    Lastimosamente en este caso ambos me dieron resultados muy similares. Yo buscaria seguir trabajando con ellos hasta encontrar al menos una diferencia significativa para decidirme por uno. Si analizamos sus metricas son muy parecidas.\n",
    "8. ¿Qué modelo funcionó mejor para la clasificación de phishing? ¿Por qué?\n",
    "   Ambos funcionaron igual, realmente resaltar en este punto uno sobre el otro seria puro gusto personal ya que sus respuestas son extremadamente similares.\n",
    "10. Una empresa desea utilizar su mejor modelo, debido a que sus empleados sufren constantes\n",
    "ataques de phishing mediante e-mail. La empresa estima que, de un total de 50,000 emails, un 15% son phishing. ¿Qué cantidad de alarmas generaría su modelo? ¿Cuántas positivas y cuantas negativas? ¿Funciona el modelo para el BR propuesto? En caso negativo, ¿qué se podría hacer para reducir la cantidad de falsas alarmas?\n",
    "\n",
    "\n",
    "Utilizando el modelo de Gradient Boosting Machine para determinar cuántas alarmas generaría:\n",
    "\n",
    "Verdaderos Positivos (TP): 651\n",
    "Falsos Positivos (FP): 145\n",
    "Verdaderos Negativos (TN): 701\n",
    "Falsos Negativos (FN): 218\n",
    "La cantidad total de alarmas generadas sería la suma de los verdaderos positivos y los falsos positivos:\n",
    "\n",
    "Total de alarmas generadas = TP + FP = 651 + 145 = 796\n",
    "\n",
    "De estas alarmas generadas, la cantidad de alarmas positivas (phishing) sería el número de verdaderos positivos:\n",
    "\n",
    "Cantidad de alarmas positivas = TP = 651\n",
    "\n",
    "La cantidad de alarmas negativas (no phishing) sería el número de falsos positivos:\n",
    "\n",
    "Cantidad de alarmas negativas = FP = 145\n",
    "\n",
    "Ahora, evaluemos si el modelo funciona para el balanceo de precisión y recall (BR) propuesto. Para esto, calcularemos la precisión y el recall del modelo:\n",
    "\n",
    "Precisión (Precision) = TP / (TP + FP)\n",
    "Recall = TP / (TP + FN)\n",
    "Calculamos la precisión:\n",
    "\n",
    "Precision = 651 / (651 + 145) ≈ 0.818\n",
    "\n",
    "Calculamos el recall:\n",
    "\n",
    "Recall = 651 / (651 + 218) ≈ 0.749\n"
   ]
  },
  {
   "cell_type": "code",
   "execution_count": null,
   "id": "22a87a1a-9c96-4f79-b778-53e06d3306b3",
   "metadata": {},
   "outputs": [],
   "source": []
  }
 ],
 "metadata": {
  "kernelspec": {
   "display_name": "Python 3 (ipykernel)",
   "language": "python",
   "name": "python3"
  },
  "language_info": {
   "codemirror_mode": {
    "name": "ipython",
    "version": 3
   },
   "file_extension": ".py",
   "mimetype": "text/x-python",
   "name": "python",
   "nbconvert_exporter": "python",
   "pygments_lexer": "ipython3",
   "version": "3.11.4"
  }
 },
 "nbformat": 4,
 "nbformat_minor": 5
}
